{
  "nbformat": 4,
  "nbformat_minor": 0,
  "metadata": {
    "colab": {
      "provenance": []
    },
    "kernelspec": {
      "name": "python3",
      "display_name": "Python 3"
    },
    "language_info": {
      "name": "python"
    }
  },
  "cells": [
    {
      "cell_type": "code",
      "execution_count": null,
      "metadata": {
        "id": "zuuzKPHRJ7in"
      },
      "outputs": [],
      "source": [
        "import pandas as pd\n",
        "import numpy as np\n",
        "from rdkit import Chem\n",
        "from rdkit.Chem import QED\n",
        "\n",
        "\n",
        "def is_valid_molecule(smiles):\n",
        "    mol = Chem.MolFromSmiles(smiles)\n",
        "    return mol is not None\n",
        "\n",
        "\n",
        "def calculate_qed(smiles):\n",
        "    mol = Chem.MolFromSmiles(smiles)\n",
        "    if mol:\n",
        "        return QED.qed(mol)\n",
        "    return None\n",
        "\n",
        "\n",
        "def calculate_novelty(generated_smiles, test_smiles):\n",
        "    novel_count = 0\n",
        "    for smile in generated_smiles:\n",
        "        if smile not in test_smiles:\n",
        "            novel_count += 1\n",
        "    return novel_count / len(generated_smiles) * 100\n",
        ")\n",
        "def calculate_diversity(generated_smiles):\n",
        "    unique_smiles = set(generated_smiles)\n",
        "    return len(unique_smiles) / len(generated_smiles)\n",
        "\n",
        "\n",
        "def evaluate_generated_molecules(generated_smiles, test_smiles):\n",
        "    # Validity\n",
        "    validity = [is_valid_molecule(smiles) for smiles in generated_smiles]\n",
        "    validity_ratio = sum(validity) / len(validity) * 100\n",
        "\n",
        "    # Novelty (comparison with test set)\n",
        "    novelty = calculate_novelty(generated_smiles, test_smiles)\n",
        "\n",
        "    # Diversity\n",
        "    diversity = calculate_diversity(generated_smiles)\n",
        "\n",
        "    # Drug-likeness (QED)\n",
        "    qed_scores = [calculate_qed(smiles) for smiles in generated_smiles]\n",
        "    valid_qed_scores = [score for score in qed_scores if score is not None]\n",
        "    average_qed = np.mean(valid_qed_scores) if valid_qed_scores else None\n",
        "\n",
        "    evaluation_results = {\n",
        "        \"validity_percentage\": validity_ratio,\n",
        "        \"novelty_percentage\": novelty,\n",
        "        \"diversity_fraction\": diversity,\n",
        "        \"average_qed\": average_qed\n",
        "    }\n",
        "\n",
        "    return evaluation_results"
      ]
    }
  ]
}